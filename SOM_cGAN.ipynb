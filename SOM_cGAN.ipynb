{
  "nbformat": 4,
  "nbformat_minor": 0,
  "metadata": {
    "colab": {
      "name": "SOM_cGAN",
      "provenance": [],
      "collapsed_sections": [],
      "toc_visible": true,
      "include_colab_link": true
    },
    "kernelspec": {
      "name": "python3",
      "display_name": "Python 3"
    },
    "accelerator": "GPU"
  },
  "cells": [
    {
      "cell_type": "markdown",
      "metadata": {
        "id": "view-in-github",
        "colab_type": "text"
      },
      "source": [
        "<a href=\"https://colab.research.google.com/github/mminerva/GAN-SOM/blob/master/SOM_cGAN.ipynb\" target=\"_parent\"><img src=\"https://colab.research.google.com/assets/colab-badge.svg\" alt=\"Open In Colab\"/></a>"
      ]
    },
    {
      "cell_type": "markdown",
      "metadata": {
        "id": "7wNjDKdQy35h",
        "colab_type": "text"
      },
      "source": [
        "# Install"
      ]
    },
    {
      "cell_type": "code",
      "metadata": {
        "id": "TRm-USlsHgEV",
        "colab_type": "code",
        "outputId": "9614c60e-c626-4701-cb81-d892fe622c9d",
        "colab": {
          "base_uri": "https://localhost:8080/",
          "height": 131
        }
      },
      "source": [
        "!git clone https://github.com/mminerva/GAN-SOM"
      ],
      "execution_count": 1,
      "outputs": [
        {
          "output_type": "stream",
          "text": [
            "Cloning into 'GAN-SOM'...\n",
            "remote: Enumerating objects: 44, done.\u001b[K\n",
            "remote: Counting objects: 100% (44/44), done.\u001b[K\n",
            "remote: Compressing objects: 100% (43/43), done.\u001b[K\n",
            "remote: Total 724 (delta 9), reused 3 (delta 1), pack-reused 680\u001b[K\n",
            "Receiving objects: 100% (724/724), 56.37 MiB | 6.63 MiB/s, done.\n",
            "Resolving deltas: 100% (16/16), done.\n"
          ],
          "name": "stdout"
        }
      ]
    },
    {
      "cell_type": "code",
      "metadata": {
        "id": "Pt3igws3eiVp",
        "colab_type": "code",
        "colab": {}
      },
      "source": [
        "import os\n",
        "os.chdir('GAN-SOM')\n",
        "!pip install minisom"
      ],
      "execution_count": 0,
      "outputs": []
    },
    {
      "cell_type": "code",
      "metadata": {
        "id": "HxfNJsQRTd7T",
        "colab_type": "code",
        "colab": {
          "base_uri": "https://localhost:8080/",
          "height": 460
        },
        "outputId": "4e99b327-296c-44d6-ffea-85806d9bd051"
      },
      "source": [
        "!python som_cGAN.py"
      ],
      "execution_count": 57,
      "outputs": [
        {
          "output_type": "stream",
          "text": [
            "[2. 3. 1.]\n",
            "[0. 2. 0.] [2. 3. 1.]\n",
            "0.4\n",
            "results for dataset sat2map\n",
            "results for real data\n",
            "\n",
            "<Figure size 800x700 with 2 Axes>\n",
            "results for fake data\n",
            "\n",
            "<Figure size 800x700 with 2 Axes>\n",
            "[[0], [1], [2, 16, 32, 47, 49], [3], [4, 7, 9, 10, 17, 18, 20, 21, 23, 31, 36, 38, 39, 40, 42, 43, 46, 48], [5, 13, 25], [6], [4, 7, 9, 10, 17, 18, 20, 21, 23, 31, 36, 38, 39, 40, 42, 43, 46, 48], [8], [4, 7, 9, 10, 17, 18, 20, 21, 23, 31, 36, 38, 39, 40, 42, 43, 46, 48], [4, 7, 9, 10, 17, 18, 20, 21, 23, 31, 36, 38, 39, 40, 42, 43, 46, 48], [11, 12, 14, 19], [11, 12, 14, 19], [5, 13, 25], [11, 12, 14, 19], [15], [2, 16, 32, 47, 49], [4, 7, 9, 10, 17, 18, 20, 21, 23, 31, 36, 38, 39, 40, 42, 43, 46, 48], [4, 7, 9, 10, 17, 18, 20, 21, 23, 31, 36, 38, 39, 40, 42, 43, 46, 48], [11, 12, 14, 19], [4, 7, 9, 10, 17, 18, 20, 21, 23, 31, 36, 38, 39, 40, 42, 43, 46, 48], [4, 7, 9, 10, 17, 18, 20, 21, 23, 31, 36, 38, 39, 40, 42, 43, 46, 48], [22], [4, 7, 9, 10, 17, 18, 20, 21, 23, 31, 36, 38, 39, 40, 42, 43, 46, 48], [24], [5, 13, 25], [26], [27], [28], [29], [30], [4, 7, 9, 10, 17, 18, 20, 21, 23, 31, 36, 38, 39, 40, 42, 43, 46, 48], [2, 16, 32, 47, 49], [33], [34], [35], [4, 7, 9, 10, 17, 18, 20, 21, 23, 31, 36, 38, 39, 40, 42, 43, 46, 48], [37], [4, 7, 9, 10, 17, 18, 20, 21, 23, 31, 36, 38, 39, 40, 42, 43, 46, 48], [4, 7, 9, 10, 17, 18, 20, 21, 23, 31, 36, 38, 39, 40, 42, 43, 46, 48], [4, 7, 9, 10, 17, 18, 20, 21, 23, 31, 36, 38, 39, 40, 42, 43, 46, 48], [41], [4, 7, 9, 10, 17, 18, 20, 21, 23, 31, 36, 38, 39, 40, 42, 43, 46, 48], [4, 7, 9, 10, 17, 18, 20, 21, 23, 31, 36, 38, 39, 40, 42, 43, 46, 48], [44], [45], [4, 7, 9, 10, 17, 18, 20, 21, 23, 31, 36, 38, 39, 40, 42, 43, 46, 48], [2, 16, 32, 47, 49], [4, 7, 9, 10, 17, 18, 20, 21, 23, 31, 36, 38, 39, 40, 42, 43, 46, 48], [2, 16, 32, 47, 49]]\n",
            "[[0, 1, 12, 17, 36], [0, 1, 12, 17, 36], [2], [3, 13, 32, 37], [4, 5, 7, 15, 20, 22, 26, 27, 31, 35, 40, 47, 48], [4, 5, 7, 15, 20, 22, 26, 27, 31, 35, 40, 47, 48], [6], [4, 5, 7, 15, 20, 22, 26, 27, 31, 35, 40, 47, 48], [8, 41], [9, 10, 14, 29, 34], [9, 10, 14, 29, 34], [11], [0, 1, 12, 17, 36], [3, 13, 32, 37], [9, 10, 14, 29, 34], [4, 5, 7, 15, 20, 22, 26, 27, 31, 35, 40, 47, 48], [16, 23, 25, 28], [0, 1, 12, 17, 36], [18], [19, 43, 44], [4, 5, 7, 15, 20, 22, 26, 27, 31, 35, 40, 47, 48], [21], [4, 5, 7, 15, 20, 22, 26, 27, 31, 35, 40, 47, 48], [16, 23, 25, 28], [24], [16, 23, 25, 28], [4, 5, 7, 15, 20, 22, 26, 27, 31, 35, 40, 47, 48], [4, 5, 7, 15, 20, 22, 26, 27, 31, 35, 40, 47, 48], [16, 23, 25, 28], [9, 10, 14, 29, 34], [30, 45], [4, 5, 7, 15, 20, 22, 26, 27, 31, 35, 40, 47, 48], [3, 13, 32, 37], [33], [9, 10, 14, 29, 34], [4, 5, 7, 15, 20, 22, 26, 27, 31, 35, 40, 47, 48], [0, 1, 12, 17, 36], [3, 13, 32, 37], [38], [39], [4, 5, 7, 15, 20, 22, 26, 27, 31, 35, 40, 47, 48], [8, 41], [42], [19, 43, 44], [19, 43, 44], [30, 45], [46], [4, 5, 7, 15, 20, 22, 26, 27, 31, 35, 40, 47, 48], [4, 5, 7, 15, 20, 22, 26, 27, 31, 35, 40, 47, 48], [49]]\n",
            "[ 1.  1.  5.  1. 18.  3.  1.  1.  4.  1.  1.  1.  1.  1.  1.  1.  1.  1.\n",
            "  1.  1.  1.  1.  1.  1.]\n",
            "mean Jaccard similiarity: 0.22590687351863822\n",
            "median Jaccard similiarity: 0.16666666666666666\n",
            "Number of elements with the same assignment in the fake domain, for each centroid: [ 0.  0.  0.  0. 10.  0.  0.  0.  0.  0.  0.  0.  0.  0.  0.  0.  0.  0.\n",
            "  0.  0.  0.  0.  0.  0.]\n",
            "Number of elements in each real centroid: [ 1.  1.  5.  1. 18.  3.  1.  1.  4.  1.  1.  1.  1.  1.  1.  1.  1.  1.\n",
            "  1.  1.  1.  1.  1.  1.]\n",
            "Computed score: 0.3333333333333333\n",
            "results for combined data\n",
            "\n",
            "<Figure size 800x700 with 2 Axes>\n",
            "0 pairs were grouped together out of 50\n",
            "sat2map_results.txt\n"
          ],
          "name": "stdout"
        }
      ]
    },
    {
      "cell_type": "markdown",
      "metadata": {
        "id": "YR2yY803HITg",
        "colab_type": "text"
      },
      "source": [
        "##GitHub repo"
      ]
    },
    {
      "cell_type": "markdown",
      "metadata": {
        "id": "T7DvLAZoIjJj",
        "colab_type": "text"
      },
      "source": [
        "After working, to commit work"
      ]
    },
    {
      "cell_type": "code",
      "metadata": {
        "id": "WkfH7vc--blQ",
        "colab_type": "code",
        "colab": {}
      },
      "source": [
        "!git add -A"
      ],
      "execution_count": 0,
      "outputs": []
    },
    {
      "cell_type": "code",
      "metadata": {
        "id": "OzbFasLK_bs-",
        "colab_type": "code",
        "outputId": "68cb2a47-e024-4228-e6f3-4bc80d853332",
        "colab": {
          "base_uri": "https://localhost:8080/",
          "height": 50
        }
      },
      "source": [
        "!git config user.email “michi.minerva@gmail.com”\n",
        "!git config user.name “mminerva”\n",
        "!git commit -m 'added compare metrics'"
      ],
      "execution_count": 64,
      "outputs": [
        {
          "output_type": "stream",
          "text": [
            "[master 3b1cb83] added compare metrics\n",
            " 1 file changed, 2 insertions(+), 17 deletions(-)\n"
          ],
          "name": "stdout"
        }
      ]
    },
    {
      "cell_type": "code",
      "metadata": {
        "id": "T9EzuM0YAtNA",
        "colab_type": "code",
        "colab": {}
      },
      "source": [
        "!git remote rm origin"
      ],
      "execution_count": 0,
      "outputs": []
    },
    {
      "cell_type": "code",
      "metadata": {
        "id": "TbhqGYALAEm1",
        "colab_type": "code",
        "colab": {}
      },
      "source": [
        "u = 'usr'\n",
        "p = 'pwd'\n",
        "!git remote add origin https://$u:$p@github.com/mminerva/GAN-SOM"
      ],
      "execution_count": 0,
      "outputs": []
    },
    {
      "cell_type": "code",
      "metadata": {
        "id": "EiY0C15TAG5r",
        "colab_type": "code",
        "outputId": "0b224e8d-242e-46fc-f7ec-f03bce19c6c7",
        "colab": {
          "base_uri": "https://localhost:8080/",
          "height": 163
        }
      },
      "source": [
        "!git push -u origin master"
      ],
      "execution_count": 65,
      "outputs": [
        {
          "output_type": "stream",
          "text": [
            "Counting objects: 3, done.\n",
            "Delta compression using up to 2 threads.\n",
            "Compressing objects:  33% (1/3)   \rCompressing objects:  66% (2/3)   \rCompressing objects: 100% (3/3)   \rCompressing objects: 100% (3/3), done.\n",
            "Writing objects:  33% (1/3)   \rWriting objects:  66% (2/3)   \rWriting objects: 100% (3/3)   \rWriting objects: 100% (3/3), 324 bytes | 324.00 KiB/s, done.\n",
            "Total 3 (delta 2), reused 0 (delta 0)\n",
            "remote: Resolving deltas: 100% (2/2), completed with 2 local objects.\u001b[K\n",
            "To https://github.com/mminerva/GAN-SOM\n",
            "   2616de1..3b1cb83  master -> master\n",
            "Branch 'master' set up to track remote branch 'master' from 'origin'.\n"
          ],
          "name": "stdout"
        }
      ]
    },
    {
      "cell_type": "code",
      "metadata": {
        "id": "xbUqQ4VCxjwI",
        "colab_type": "code",
        "colab": {}
      },
      "source": [
        ""
      ],
      "execution_count": 0,
      "outputs": []
    }
  ]
}